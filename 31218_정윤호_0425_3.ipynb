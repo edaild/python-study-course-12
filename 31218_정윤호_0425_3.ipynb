{
 "cells": [
  {
   "cell_type": "markdown",
   "id": "c4720926",
   "metadata": {},
   "source": [
    "31218_정윤호_0425_3"
   ]
  },
  {
   "cell_type": "code",
   "execution_count": 4,
   "id": "a2175a3d",
   "metadata": {},
   "outputs": [
    {
     "name": "stdout",
     "output_type": "stream",
     "text": [
      "+와 -를 번갈아 출력합니다.\n",
      "몇 개를 출력할까요? : 15\n",
      "+-+-+-+-+-+-+-+\n"
     ]
    }
   ],
   "source": [
    "# 문제1\n",
    "# 조건1 특정문자를 줄바꿈 없이 연속으로 출력하는 프로그램\n",
    "# +-+-+-+-+-+-\n",
    "\n",
    "# +와 -를 변갈아 출력하기\n",
    "print('+와 -를 번갈아 출력합니다.')\n",
    "n = int(input('몇 개를 출력할까요? : '))\n",
    "\n",
    "for i in range(n):\n",
    "    if i % 2 : # 홀수 -출력\n",
    "        print('-',end='')\n",
    "    else:\n",
    "        print('+',end='') #짝수인 경우 +출력\n",
    "        \n",
    "print()"
   ]
  },
  {
   "cell_type": "code",
   "execution_count": 8,
   "id": "f3e9c957",
   "metadata": {},
   "outputs": [
    {
     "name": "stdout",
     "output_type": "stream",
     "text": [
      "+와 -를 번갈아 출력합니다.\n",
      "몇 개를 출력할까요? : 15\n",
      "★♥★♥★♥★♥★♥★♥★♥★"
     ]
    }
   ],
   "source": [
    "# +와 -를 변갈아 출력하기\n",
    "print('+와 -를 번갈아 출력합니다.')\n",
    "n = int(input('몇 개를 출력할까요? : '))\n",
    "\n",
    "for _ in range(n // 2) :\n",
    "    print('★♥',end='') # +-를 n//2만큼 출력\n",
    "    \n",
    "if n % 2 :\n",
    "    print('★',end='')# n이 홀수일때만 +를 더 출력\n"
   ]
  },
  {
   "cell_type": "code",
   "execution_count": 12,
   "id": "33857783",
   "metadata": {},
   "outputs": [
    {
     "name": "stdout",
     "output_type": "stream",
     "text": [
      "♥를 출력합니다.\n",
      "몇 개를 출력할까요? : 22\n",
      "몇 개마다 줄바꿈하까요? : 5\n",
      "♥♥♥♥♥\n",
      "♥♥♥♥♥\n",
      "♥♥♥♥♥\n",
      "♥♥♥♥♥\n",
      "♥♥\n"
     ]
    }
   ],
   "source": [
    "# 문제2\n",
    "# 조건1 ♥를 n개 출력,\n",
    "# 조건2 w개 만큼 줄바꿈\n",
    "\n",
    "print('♥를 출력합니다.')\n",
    "n = int(input('몇 개를 출력할까요? : '))\n",
    "w = int(input('몇 개마다 줄바꿈하까요? : '))\n",
    "\n",
    "for i in range(n):\n",
    "    print('♥',end='')\n",
    "    if i % w == w - 1 : #줄바꿈 개수 판단\n",
    "        print()\n",
    "if n % w :\n",
    "        print() #전체줄바꿈\n",
    "    "
   ]
  },
  {
   "cell_type": "code",
   "execution_count": null,
   "id": "6516252b",
   "metadata": {},
   "outputs": [],
   "source": []
  }
 ],
 "metadata": {
  "kernelspec": {
   "display_name": "Python 3 (ipykernel)",
   "language": "python",
   "name": "python3"
  },
  "language_info": {
   "codemirror_mode": {
    "name": "ipython",
    "version": 3
   },
   "file_extension": ".py",
   "mimetype": "text/x-python",
   "name": "python",
   "nbconvert_exporter": "python",
   "pygments_lexer": "ipython3",
   "version": "3.9.7"
  }
 },
 "nbformat": 4,
 "nbformat_minor": 5
}
